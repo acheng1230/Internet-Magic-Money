{
 "cells": [
  {
   "cell_type": "code",
   "execution_count": 1,
   "metadata": {
    "collapsed": true
   },
   "outputs": [],
   "source": [
    "import matplotlib.pyplot as plt\n",
    "import numpy as np\n",
    "import os\n",
    "import pandas as pd\n",
    "import pickle\n",
    "import quandl\n",
    "from datetime import datetime\n",
    "from math import ceil"
   ]
  },
  {
   "cell_type": "code",
   "execution_count": 2,
   "metadata": {
    "collapsed": true
   },
   "outputs": [],
   "source": [
    "%matplotlib inline"
   ]
  },
  {
   "cell_type": "code",
   "execution_count": 3,
   "metadata": {
    "collapsed": true
   },
   "outputs": [],
   "source": [
    "DATA_DIR = 'DATA'\n",
    "DATA_PATH = os.path.join('..',DATA_DIR)"
   ]
  },
  {
   "cell_type": "code",
   "execution_count": 4,
   "metadata": {
    "collapsed": true
   },
   "outputs": [],
   "source": [
    "# Add your Quandl API key in API_KEY"
   ]
  },
  {
   "cell_type": "code",
   "execution_count": 5,
   "metadata": {
    "collapsed": true
   },
   "outputs": [],
   "source": [
    "# os.chdir(os.path.join('..', 'settings'))\n",
    "os.chdir('../settings/')\n",
    "\n",
    "from settings import API_KEY\n",
    "\n"
   ]
  },
  {
   "cell_type": "code",
   "execution_count": 6,
   "metadata": {
    "collapsed": true
   },
   "outputs": [],
   "source": [
    "quandl.ApiConfig.api_key = API_KEY\n",
    "    "
   ]
  },
  {
   "cell_type": "code",
   "execution_count": 7,
   "metadata": {
    "collapsed": true
   },
   "outputs": [],
   "source": [
    "def quandl_data(quandl_id):\n",
    "    '''\n",
    "        Gets data from Quandl API.\n",
    "    '''\n",
    "    file = '{}.pkl'.format(quandl_id.replace('/','-'))\n",
    "    path = os.path.join(DATA_PATH, file)\n",
    "    try:\n",
    "        f = open(path, 'rb')\n",
    "        df = pickle.load(f)\n",
    "    except (IOError,OSError):\n",
    "        df = quandl.get(quandl_id, returns='pandas')\n",
    "        # pickles df so it doesnt have to\n",
    "        # download it again.\n",
    "        df.to_pickle(path)\n",
    "    return df"
   ]
  },
  {
   "cell_type": "code",
   "execution_count": 8,
   "metadata": {
    "collapsed": true
   },
   "outputs": [],
   "source": [
    "def quandl_format(market, curr):\n",
    "    '''\n",
    "        returns BCHARTS/{MARKET}{CURRENCY}\n",
    "    '''\n",
    "    return \"BCHARTS/{0}{1}\".format(market.upper(), curr.upper())"
   ]
  },
  {
   "cell_type": "code",
   "execution_count": 9,
   "metadata": {
    "collapsed": true
   },
   "outputs": [],
   "source": [
    "markets = [\"Kraken\", \"foxbit\", \"Bitstamp\", \"itBit\"]\n",
    "currs = [\"USD\", \"BRL\", \"USD\", \"USD\"]\n",
    "\n",
    "data = {market:quandl_format(market, curr) for market, curr in zip(markets, currs)}"
   ]
  },
  {
   "cell_type": "code",
   "execution_count": 10,
   "metadata": {},
   "outputs": [
    {
     "data": {
      "text/plain": [
       "{'Bitstamp': 'BCHARTS/BITSTAMPUSD',\n",
       " 'Kraken': 'BCHARTS/KRAKENUSD',\n",
       " 'foxbit': 'BCHARTS/FOXBITBRL',\n",
       " 'itBit': 'BCHARTS/ITBITUSD'}"
      ]
     },
     "execution_count": 10,
     "metadata": {},
     "output_type": "execute_result"
    }
   ],
   "source": [
    "data"
   ]
  },
  {
   "cell_type": "code",
   "execution_count": 11,
   "metadata": {
    "collapsed": true
   },
   "outputs": [],
   "source": [
    "btc_price = quandl_data(data['Kraken'])"
   ]
  },
  {
   "cell_type": "code",
   "execution_count": 12,
   "metadata": {},
   "outputs": [
    {
     "name": "stdout",
     "output_type": "stream",
     "text": [
      "<class 'pandas.core.frame.DataFrame'>\n",
      "DatetimeIndex: 1385 entries, 2014-01-07 to 2017-10-22\n",
      "Data columns (total 7 columns):\n",
      "Open                 1385 non-null float64\n",
      "High                 1385 non-null float64\n",
      "Low                  1385 non-null float64\n",
      "Close                1385 non-null float64\n",
      "Volume (BTC)         1385 non-null float64\n",
      "Volume (Currency)    1385 non-null float64\n",
      "Weighted Price       1385 non-null float64\n",
      "dtypes: float64(7)\n",
      "memory usage: 86.6 KB\n"
     ]
    }
   ],
   "source": [
    "btc_price.info()"
   ]
  },
  {
   "cell_type": "code",
   "execution_count": 13,
   "metadata": {},
   "outputs": [
    {
     "data": {
      "text/html": [
       "<div>\n",
       "<style>\n",
       "    .dataframe thead tr:only-child th {\n",
       "        text-align: right;\n",
       "    }\n",
       "\n",
       "    .dataframe thead th {\n",
       "        text-align: left;\n",
       "    }\n",
       "\n",
       "    .dataframe tbody tr th {\n",
       "        vertical-align: top;\n",
       "    }\n",
       "</style>\n",
       "<table border=\"1\" class=\"dataframe\">\n",
       "  <thead>\n",
       "    <tr style=\"text-align: right;\">\n",
       "      <th></th>\n",
       "      <th>Open</th>\n",
       "      <th>High</th>\n",
       "      <th>Low</th>\n",
       "      <th>Close</th>\n",
       "      <th>Volume (BTC)</th>\n",
       "      <th>Volume (Currency)</th>\n",
       "      <th>Weighted Price</th>\n",
       "    </tr>\n",
       "  </thead>\n",
       "  <tbody>\n",
       "    <tr>\n",
       "      <th>count</th>\n",
       "      <td>1385.000000</td>\n",
       "      <td>1385.000000</td>\n",
       "      <td>1385.000000</td>\n",
       "      <td>1385.000000</td>\n",
       "      <td>1385.000000</td>\n",
       "      <td>1.385000e+03</td>\n",
       "      <td>1385.000000</td>\n",
       "    </tr>\n",
       "    <tr>\n",
       "      <th>mean</th>\n",
       "      <td>845.166420</td>\n",
       "      <td>871.340026</td>\n",
       "      <td>819.727842</td>\n",
       "      <td>848.851510</td>\n",
       "      <td>1436.936749</td>\n",
       "      <td>3.108282e+06</td>\n",
       "      <td>845.957741</td>\n",
       "    </tr>\n",
       "    <tr>\n",
       "      <th>std</th>\n",
       "      <td>1026.019241</td>\n",
       "      <td>1063.594200</td>\n",
       "      <td>990.958190</td>\n",
       "      <td>1035.085647</td>\n",
       "      <td>2592.896665</td>\n",
       "      <td>7.813268e+06</td>\n",
       "      <td>1027.593558</td>\n",
       "    </tr>\n",
       "    <tr>\n",
       "      <th>min</th>\n",
       "      <td>0.000000</td>\n",
       "      <td>0.000000</td>\n",
       "      <td>0.000000</td>\n",
       "      <td>0.000000</td>\n",
       "      <td>0.000000</td>\n",
       "      <td>0.000000e+00</td>\n",
       "      <td>0.000000</td>\n",
       "    </tr>\n",
       "    <tr>\n",
       "      <th>25%</th>\n",
       "      <td>309.197000</td>\n",
       "      <td>317.844650</td>\n",
       "      <td>290.000020</td>\n",
       "      <td>304.800010</td>\n",
       "      <td>12.188569</td>\n",
       "      <td>4.857439e+03</td>\n",
       "      <td>306.581848</td>\n",
       "    </tr>\n",
       "    <tr>\n",
       "      <th>50%</th>\n",
       "      <td>506.175490</td>\n",
       "      <td>525.282250</td>\n",
       "      <td>490.000010</td>\n",
       "      <td>509.982960</td>\n",
       "      <td>110.724984</td>\n",
       "      <td>3.182470e+04</td>\n",
       "      <td>502.559137</td>\n",
       "    </tr>\n",
       "    <tr>\n",
       "      <th>75%</th>\n",
       "      <td>775.205100</td>\n",
       "      <td>781.498000</td>\n",
       "      <td>765.432000</td>\n",
       "      <td>773.499000</td>\n",
       "      <td>1587.454151</td>\n",
       "      <td>1.119135e+06</td>\n",
       "      <td>775.039792</td>\n",
       "    </tr>\n",
       "    <tr>\n",
       "      <th>max</th>\n",
       "      <td>6039.800000</td>\n",
       "      <td>6180.000000</td>\n",
       "      <td>5920.900000</td>\n",
       "      <td>6043.000000</td>\n",
       "      <td>21846.766955</td>\n",
       "      <td>7.435428e+07</td>\n",
       "      <td>6071.996250</td>\n",
       "    </tr>\n",
       "  </tbody>\n",
       "</table>\n",
       "</div>"
      ],
      "text/plain": [
       "              Open         High          Low        Close  Volume (BTC)  \\\n",
       "count  1385.000000  1385.000000  1385.000000  1385.000000   1385.000000   \n",
       "mean    845.166420   871.340026   819.727842   848.851510   1436.936749   \n",
       "std    1026.019241  1063.594200   990.958190  1035.085647   2592.896665   \n",
       "min       0.000000     0.000000     0.000000     0.000000      0.000000   \n",
       "25%     309.197000   317.844650   290.000020   304.800010     12.188569   \n",
       "50%     506.175490   525.282250   490.000010   509.982960    110.724984   \n",
       "75%     775.205100   781.498000   765.432000   773.499000   1587.454151   \n",
       "max    6039.800000  6180.000000  5920.900000  6043.000000  21846.766955   \n",
       "\n",
       "       Volume (Currency)  Weighted Price  \n",
       "count       1.385000e+03     1385.000000  \n",
       "mean        3.108282e+06      845.957741  \n",
       "std         7.813268e+06     1027.593558  \n",
       "min         0.000000e+00        0.000000  \n",
       "25%         4.857439e+03      306.581848  \n",
       "50%         3.182470e+04      502.559137  \n",
       "75%         1.119135e+06      775.039792  \n",
       "max         7.435428e+07     6071.996250  "
      ]
     },
     "execution_count": 13,
     "metadata": {},
     "output_type": "execute_result"
    }
   ],
   "source": [
    "btc_price.describe()"
   ]
  },
  {
   "cell_type": "code",
   "execution_count": 14,
   "metadata": {},
   "outputs": [
    {
     "data": {
      "text/html": [
       "<div>\n",
       "<style>\n",
       "    .dataframe thead tr:only-child th {\n",
       "        text-align: right;\n",
       "    }\n",
       "\n",
       "    .dataframe thead th {\n",
       "        text-align: left;\n",
       "    }\n",
       "\n",
       "    .dataframe tbody tr th {\n",
       "        vertical-align: top;\n",
       "    }\n",
       "</style>\n",
       "<table border=\"1\" class=\"dataframe\">\n",
       "  <thead>\n",
       "    <tr style=\"text-align: right;\">\n",
       "      <th></th>\n",
       "      <th>Open</th>\n",
       "      <th>High</th>\n",
       "      <th>Low</th>\n",
       "      <th>Close</th>\n",
       "      <th>Volume (BTC)</th>\n",
       "      <th>Volume (Currency)</th>\n",
       "      <th>Weighted Price</th>\n",
       "    </tr>\n",
       "    <tr>\n",
       "      <th>Date</th>\n",
       "      <th></th>\n",
       "      <th></th>\n",
       "      <th></th>\n",
       "      <th></th>\n",
       "      <th></th>\n",
       "      <th></th>\n",
       "      <th></th>\n",
       "    </tr>\n",
       "  </thead>\n",
       "  <tbody>\n",
       "    <tr>\n",
       "      <th>2014-01-07</th>\n",
       "      <td>874.67040</td>\n",
       "      <td>892.06753</td>\n",
       "      <td>810.00000</td>\n",
       "      <td>810.00000</td>\n",
       "      <td>15.622378</td>\n",
       "      <td>13151.472844</td>\n",
       "      <td>841.835522</td>\n",
       "    </tr>\n",
       "    <tr>\n",
       "      <th>2014-01-08</th>\n",
       "      <td>810.00000</td>\n",
       "      <td>899.84281</td>\n",
       "      <td>788.00000</td>\n",
       "      <td>824.98287</td>\n",
       "      <td>19.182756</td>\n",
       "      <td>16097.329584</td>\n",
       "      <td>839.156269</td>\n",
       "    </tr>\n",
       "    <tr>\n",
       "      <th>2014-01-09</th>\n",
       "      <td>825.56345</td>\n",
       "      <td>870.00000</td>\n",
       "      <td>807.42084</td>\n",
       "      <td>841.86934</td>\n",
       "      <td>8.158335</td>\n",
       "      <td>6784.249982</td>\n",
       "      <td>831.572913</td>\n",
       "    </tr>\n",
       "    <tr>\n",
       "      <th>2014-01-10</th>\n",
       "      <td>839.99000</td>\n",
       "      <td>857.34056</td>\n",
       "      <td>817.00000</td>\n",
       "      <td>857.33056</td>\n",
       "      <td>8.024510</td>\n",
       "      <td>6780.220188</td>\n",
       "      <td>844.938794</td>\n",
       "    </tr>\n",
       "    <tr>\n",
       "      <th>2014-01-11</th>\n",
       "      <td>858.20000</td>\n",
       "      <td>918.05471</td>\n",
       "      <td>857.16554</td>\n",
       "      <td>899.84105</td>\n",
       "      <td>18.748285</td>\n",
       "      <td>16698.566929</td>\n",
       "      <td>890.671709</td>\n",
       "    </tr>\n",
       "  </tbody>\n",
       "</table>\n",
       "</div>"
      ],
      "text/plain": [
       "                 Open       High        Low      Close  Volume (BTC)  \\\n",
       "Date                                                                   \n",
       "2014-01-07  874.67040  892.06753  810.00000  810.00000     15.622378   \n",
       "2014-01-08  810.00000  899.84281  788.00000  824.98287     19.182756   \n",
       "2014-01-09  825.56345  870.00000  807.42084  841.86934      8.158335   \n",
       "2014-01-10  839.99000  857.34056  817.00000  857.33056      8.024510   \n",
       "2014-01-11  858.20000  918.05471  857.16554  899.84105     18.748285   \n",
       "\n",
       "            Volume (Currency)  Weighted Price  \n",
       "Date                                           \n",
       "2014-01-07       13151.472844      841.835522  \n",
       "2014-01-08       16097.329584      839.156269  \n",
       "2014-01-09        6784.249982      831.572913  \n",
       "2014-01-10        6780.220188      844.938794  \n",
       "2014-01-11       16698.566929      890.671709  "
      ]
     },
     "execution_count": 14,
     "metadata": {},
     "output_type": "execute_result"
    }
   ],
   "source": [
    "btc_price.head()"
   ]
  },
  {
   "cell_type": "code",
   "execution_count": 15,
   "metadata": {
    "collapsed": true
   },
   "outputs": [],
   "source": [
    "def plot_(df, curr=\"USD\"):\n",
    "    ax = df[['Weighted Price']].plot(title='Weighted Price', figsize=(16,8))\n",
    "    \n",
    "    n_ticks = ceil(btc_price['Weighted Price'].max()/1000) + 1\n",
    "    y_ticks = [y*1000 for y in range(n_ticks)]\n",
    "\n",
    "    ax.set_yticks(y_ticks)\n",
    "    ax.set_yticklabels(['0'] + ['{}k'.format(y//1000) for y in y_ticks[1:]])\n",
    "    ax.set(ylabel=curr)\n",
    "    \n",
    "    return ax"
   ]
  },
  {
   "cell_type": "code",
   "execution_count": 16,
   "metadata": {},
   "outputs": [
    {
     "data": {
      "text/plain": [
       "<matplotlib.axes._subplots.AxesSubplot at 0x7f6822c22da0>"
      ]
     },
     "execution_count": 16,
     "metadata": {},
     "output_type": "execute_result"
    },
    {
     "data": {
      "image/png": "[encoded data removed]",
      "text/plain": [
       "<matplotlib.figure.Figure at 0x7f6822c229e8>"
      ]
     },
     "metadata": {},
     "output_type": "display_data"
    }
   ],
   "source": [
    "plot_(btc_price)"
   ]
  },
  {
   "cell_type": "code",
   "execution_count": null,
   "metadata": {
    "collapsed": true
   },
   "outputs": [],
   "source": []
  }
 ],
 "metadata": {
  "kernelspec": {
   "display_name": "Python 3",
   "language": "python",
   "name": "python3"
  },
  "language_info": {
   "codemirror_mode": {
    "name": "ipython",
    "version": 3
   },
   "file_extension": ".py",
   "mimetype": "text/x-python",
   "name": "python",
   "nbconvert_exporter": "python",
   "pygments_lexer": "ipython3",
   "version": "3.6.1"
  }
 },
 "nbformat": 4,
 "nbformat_minor": 2
}
